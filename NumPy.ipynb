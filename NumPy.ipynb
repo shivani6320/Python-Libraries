{
 "cells": [
  {
   "cell_type": "markdown",
   "metadata": {},
   "source": [
    "# NumPy"
   ]
  },
  {
   "cell_type": "code",
   "execution_count": 11,
   "metadata": {},
   "outputs": [],
   "source": [
    "import numpy as np"
   ]
  },
  {
   "cell_type": "markdown",
   "metadata": {},
   "source": [
    "#### Creating array"
   ]
  },
  {
   "cell_type": "code",
   "execution_count": 3,
   "metadata": {},
   "outputs": [
    {
     "data": {
      "text/plain": [
       "array([1, 2, 3])"
      ]
     },
     "execution_count": 3,
     "metadata": {},
     "output_type": "execute_result"
    }
   ],
   "source": [
    "np.array([1,2,3])"
   ]
  },
  {
   "cell_type": "code",
   "execution_count": 6,
   "metadata": {},
   "outputs": [
    {
     "data": {
      "text/plain": [
       "array([[1, 2],\n",
       "       [3, 4],\n",
       "       [5, 6]])"
      ]
     },
     "execution_count": 6,
     "metadata": {},
     "output_type": "execute_result"
    }
   ],
   "source": [
    "a=np.array([(1,2),(3,4),(5,6)])\n",
    "a"
   ]
  },
  {
   "cell_type": "code",
   "execution_count": 11,
   "metadata": {},
   "outputs": [
    {
     "data": {
      "text/plain": [
       "2"
      ]
     },
     "execution_count": 11,
     "metadata": {},
     "output_type": "execute_result"
    }
   ],
   "source": [
    "a.ndim"
   ]
  },
  {
   "cell_type": "code",
   "execution_count": 10,
   "metadata": {},
   "outputs": [
    {
     "data": {
      "text/plain": [
       "6"
      ]
     },
     "execution_count": 10,
     "metadata": {},
     "output_type": "execute_result"
    }
   ],
   "source": [
    "a.size"
   ]
  },
  {
   "cell_type": "code",
   "execution_count": 12,
   "metadata": {},
   "outputs": [
    {
     "data": {
      "text/plain": [
       "4"
      ]
     },
     "execution_count": 12,
     "metadata": {},
     "output_type": "execute_result"
    }
   ],
   "source": [
    "a.itemsize"
   ]
  },
  {
   "cell_type": "code",
   "execution_count": 13,
   "metadata": {},
   "outputs": [
    {
     "data": {
      "text/plain": [
       "dtype('int32')"
      ]
     },
     "execution_count": 13,
     "metadata": {},
     "output_type": "execute_result"
    }
   ],
   "source": [
    "a.dtype"
   ]
  },
  {
   "cell_type": "code",
   "execution_count": 14,
   "metadata": {},
   "outputs": [
    {
     "data": {
      "text/plain": [
       "(3, 2)"
      ]
     },
     "execution_count": 14,
     "metadata": {},
     "output_type": "execute_result"
    }
   ],
   "source": [
    "a.shape"
   ]
  },
  {
   "cell_type": "markdown",
   "metadata": {},
   "source": [
    "#### Reshaping array"
   ]
  },
  {
   "cell_type": "code",
   "execution_count": 20,
   "metadata": {},
   "outputs": [
    {
     "name": "stdout",
     "output_type": "stream",
     "text": [
      "old: [[1 2 3]\n",
      " [4 5 6]]\n",
      "old shape (2, 3)\n",
      "new: [[1 2]\n",
      " [3 4]\n",
      " [5 6]]\n",
      "new shape: (3, 2)\n"
     ]
    }
   ],
   "source": [
    "b=np.array([(1,2,3),(4,5,6)])\n",
    "print(\"old:\",b)\n",
    "print(\"old shape\",b.shape)\n",
    "b=b.reshape(3,2)\n",
    "print(\"new:\",b)\n",
    "print(\"new shape:\",b.shape)"
   ]
  },
  {
   "cell_type": "markdown",
   "metadata": {},
   "source": [
    "#### Slicing  "
   ]
  },
  {
   "cell_type": "code",
   "execution_count": 29,
   "metadata": {},
   "outputs": [
    {
     "name": "stdout",
     "output_type": "stream",
     "text": [
      "[[1 2 3 4]\n",
      " [5 6 7 8]]\n",
      "7\n"
     ]
    }
   ],
   "source": [
    " #index count starts from 0.\n",
    "s=np.array([(1,2,3,4),(5,6,7,8)])\n",
    "s.shape\n",
    "print(s)\n",
    "print(s[1,2])"
   ]
  },
  {
   "cell_type": "markdown",
   "metadata": {},
   "source": [
    "#### Linspace"
   ]
  },
  {
   "cell_type": "code",
   "execution_count": 45,
   "metadata": {},
   "outputs": [
    {
     "name": "stdout",
     "output_type": "stream",
     "text": [
      "[  1.  12.  23.  34.  45.  56.  67.  78.  89. 100.]\n"
     ]
    }
   ],
   "source": [
    "a=np.linspace(1,100,10)\n",
    "print(a)"
   ]
  },
  {
   "cell_type": "code",
   "execution_count": 51,
   "metadata": {},
   "outputs": [
    {
     "name": "stdout",
     "output_type": "stream",
     "text": [
      "[[1 2]\n",
      " [3 4]\n",
      " [5 6]]\n",
      "1\n",
      "6\n",
      "21\n",
      "3.5\n",
      "[[1.         1.41421356]\n",
      " [1.73205081 2.        ]\n",
      " [2.23606798 2.44948974]]\n",
      "1.707825127659933\n"
     ]
    }
   ],
   "source": [
    "#MIN,MAX,SUM,MEAN,SQRT,STANDARD DEVIATION\n",
    "m=np.array([(1,2),(3,4),(5,6)])\n",
    "print(m)\n",
    "print(m.min())  #or you can also write: print(np.min(m))\n",
    "print(m.max())\n",
    "print(m.sum())\n",
    "print(m.mean())\n",
    "print(np.sqrt(m))\n",
    "print(np.std(m))"
   ]
  },
  {
   "cell_type": "code",
   "execution_count": 52,
   "metadata": {},
   "outputs": [
    {
     "name": "stdout",
     "output_type": "stream",
     "text": [
      "[1.5 3.5 5.5]\n",
      "[3. 4.]\n"
     ]
    }
   ],
   "source": [
    "#PERFORMING ROW-COLUMN WISE OPERATIONS\n",
    "print(np.mean(m,axis=1))\n",
    "print(np.mean(m,axis=0))"
   ]
  },
  {
   "cell_type": "code",
   "execution_count": 54,
   "metadata": {},
   "outputs": [
    {
     "name": "stdout",
     "output_type": "stream",
     "text": [
      "[[1 2 3]\n",
      " [3 4 5]\n",
      " [5 6 7]\n",
      " [7 8 9]]\n",
      "[[1 2 3 5 6 7]\n",
      " [3 4 5 7 8 9]]\n"
     ]
    }
   ],
   "source": [
    "#VERTICAL AND HORIZONTAL STACKING\n",
    "x=np.array([(1,2,3),(3,4,5)])\n",
    "y=np.array([(5,6,7),(7,8,9)])\n",
    "print(np.vstack((x,y)))\n",
    "print(np.hstack((x,y)))"
   ]
  },
  {
   "cell_type": "code",
   "execution_count": 57,
   "metadata": {},
   "outputs": [
    {
     "name": "stdout",
     "output_type": "stream",
     "text": [
      "[[1 2 3]\n",
      " [3 4 5]]\n"
     ]
    },
    {
     "data": {
      "text/plain": [
       "array([1, 2, 3, 3, 4, 5])"
      ]
     },
     "execution_count": 57,
     "metadata": {},
     "output_type": "execute_result"
    }
   ],
   "source": [
    "#RAVEL & FLATTEN\n",
    "x=np.array([(1,2,3),(3,4,5)])\n",
    "print(x)\n",
    "x.ravel()\n",
    "x.flatten()"
   ]
  },
  {
   "cell_type": "code",
   "execution_count": 60,
   "metadata": {},
   "outputs": [
    {
     "data": {
      "text/plain": [
       "array([[3.14159265, 3.14159265, 3.14159265],\n",
       "       [3.14159265, 3.14159265, 3.14159265],\n",
       "       [3.14159265, 3.14159265, 3.14159265]])"
      ]
     },
     "execution_count": 60,
     "metadata": {},
     "output_type": "execute_result"
    }
   ],
   "source": [
    "#ALL CONSTANT ARRAY\n",
    "import math\n",
    "np.full((3,3),math.pi)"
   ]
  },
  {
   "cell_type": "code",
   "execution_count": 61,
   "metadata": {},
   "outputs": [
    {
     "data": {
      "text/plain": [
       "array([[5, 5],\n",
       "       [5, 5],\n",
       "       [5, 5]])"
      ]
     },
     "execution_count": 61,
     "metadata": {},
     "output_type": "execute_result"
    }
   ],
   "source": [
    "np.full((3,2),5)"
   ]
  },
  {
   "cell_type": "code",
   "execution_count": 62,
   "metadata": {},
   "outputs": [
    {
     "data": {
      "text/plain": [
       "array([[3., 3.],\n",
       "       [3., 3.],\n",
       "       [3., 3.],\n",
       "       [3., 3.],\n",
       "       [3., 3.]])"
      ]
     },
     "execution_count": 62,
     "metadata": {},
     "output_type": "execute_result"
    }
   ],
   "source": [
    "np.full((5,2),3,dtype=float)"
   ]
  },
  {
   "cell_type": "code",
   "execution_count": 63,
   "metadata": {},
   "outputs": [
    {
     "data": {
      "text/plain": [
       "array([[1., 0., 0., 0.],\n",
       "       [0., 1., 0., 0.],\n",
       "       [0., 0., 1., 0.],\n",
       "       [0., 0., 0., 1.]])"
      ]
     },
     "execution_count": 63,
     "metadata": {},
     "output_type": "execute_result"
    }
   ],
   "source": [
    "#IDENTITY MATRIX\n",
    "np.eye(4)"
   ]
  },
  {
   "cell_type": "code",
   "execution_count": 67,
   "metadata": {},
   "outputs": [
    {
     "data": {
      "text/plain": [
       "array([[0.66014612, 0.07861507],\n",
       "       [0.75978119, 0.48877455],\n",
       "       [0.90703572, 0.62793462]])"
      ]
     },
     "execution_count": 67,
     "metadata": {},
     "output_type": "execute_result"
    }
   ],
   "source": [
    "#RANDOM NUMBERS\n",
    "np.random.random((3,2))"
   ]
  },
  {
   "cell_type": "code",
   "execution_count": 71,
   "metadata": {},
   "outputs": [
    {
     "data": {
      "text/plain": [
       "array([40, 47, 30, 46])"
      ]
     },
     "execution_count": 71,
     "metadata": {},
     "output_type": "execute_result"
    }
   ],
   "source": [
    "np.random.randint(1,50,4)"
   ]
  },
  {
   "cell_type": "code",
   "execution_count": 80,
   "metadata": {},
   "outputs": [
    {
     "name": "stdout",
     "output_type": "stream",
     "text": [
      "[[11 13 15]\n",
      " [12  8 10]\n",
      " [16 13 10]]\n",
      "[[-9 -9 -9]\n",
      " [-4  2  2]\n",
      " [-2  3  8]]\n",
      "[[10.          5.5         4.        ]\n",
      " [ 2.          0.6         0.66666667]\n",
      " [ 1.28571429  0.625       0.11111111]]\n",
      "[[ 53  32  23]\n",
      " [134  89  74]\n",
      " [215 146 125]]\n",
      "[[ 53  32  23]\n",
      " [134  89  74]\n",
      " [215 146 125]]\n",
      "[[10  8  9]\n",
      " [11  3  5]\n",
      " [12  4  1]]\n",
      "[[1 4 7]\n",
      " [2 5 8]\n",
      " [3 6 9]]\n"
     ]
    }
   ],
   "source": [
    "#ARRAY OPERATIONS\n",
    "p=np.array([(1,2,3),(4,5,6),(7,8,9)])\n",
    "s=np.array([(10,11,12),(8,3,4),(9,5,1)])\n",
    "print(np.add(p,s))\n",
    "print(np.subtract(p,s))\n",
    "print(np.divide(s,p))\n",
    "print(np.dot(p,s))\n",
    "print(p.dot(s))\n",
    "print(s.T)\n",
    "print(p.T)"
   ]
  },
  {
   "cell_type": "code",
   "execution_count": 82,
   "metadata": {},
   "outputs": [
    {
     "data": {
      "text/plain": [
       "array([1, 0, 1])"
      ]
     },
     "execution_count": 82,
     "metadata": {},
     "output_type": "execute_result"
    }
   ],
   "source": [
    "#TILE FUNCTION\n",
    "x=np.array([(1,2,3),(3,4,5),(5,6,7),(7,8,0)])\n",
    "v=np.array([1,0,1])\n",
    "x\n",
    "v"
   ]
  },
  {
   "cell_type": "code",
   "execution_count": 86,
   "metadata": {},
   "outputs": [
    {
     "data": {
      "text/plain": [
       "array([[1, 0, 1],\n",
       "       [1, 0, 1],\n",
       "       [1, 0, 1],\n",
       "       [1, 0, 1]])"
      ]
     },
     "execution_count": 86,
     "metadata": {},
     "output_type": "execute_result"
    }
   ],
   "source": [
    "vv=np.tile(v,(4,1))\n",
    "vv"
   ]
  },
  {
   "cell_type": "code",
   "execution_count": 87,
   "metadata": {},
   "outputs": [
    {
     "data": {
      "text/plain": [
       "array([[2, 2, 4],\n",
       "       [4, 4, 6],\n",
       "       [6, 6, 8],\n",
       "       [8, 8, 1]])"
      ]
     },
     "execution_count": 87,
     "metadata": {},
     "output_type": "execute_result"
    }
   ],
   "source": [
    "x+vv"
   ]
  },
  {
   "cell_type": "code",
   "execution_count": 91,
   "metadata": {},
   "outputs": [
    {
     "data": {
      "text/plain": [
       "array([[1, 0, 1],\n",
       "       [1, 0, 1],\n",
       "       [1, 0, 1],\n",
       "       [1, 0, 1]])"
      ]
     },
     "execution_count": 91,
     "metadata": {},
     "output_type": "execute_result"
    }
   ],
   "source": [
    "#ALTERNATIVE OPTION FOR TILE FUNCTION\n",
    "np.vstack((v,v,v,v))"
   ]
  },
  {
   "cell_type": "markdown",
   "metadata": {},
   "source": [
    "### Linear algebra"
   ]
  },
  {
   "cell_type": "markdown",
   "metadata": {},
   "source": [
    "##### 7x + 5y - 3z = 16\n",
    "##### 3x - 5y + 2z = -8\n",
    "##### 5x + 3y - 7z = 0"
   ]
  },
  {
   "cell_type": "code",
   "execution_count": 2,
   "metadata": {},
   "outputs": [
    {
     "data": {
      "text/plain": [
       "array([1., 3., 2.])"
      ]
     },
     "execution_count": 2,
     "metadata": {},
     "output_type": "execute_result"
    }
   ],
   "source": [
    "a = np.array([[7,5,-3],[3,-5,2],[5,3,-7]])\n",
    "b = np.array([16,-8,0])\n",
    "ans = np.linalg.solve(a,b)\n",
    "ans"
   ]
  },
  {
   "cell_type": "markdown",
   "metadata": {},
   "source": [
    "### Python special Functions"
   ]
  },
  {
   "cell_type": "code",
   "execution_count": 4,
   "metadata": {},
   "outputs": [
    {
     "data": {
      "text/plain": [
       "array([0.        , 0.5       , 0.70710678, 0.8660254 , 1.        ])"
      ]
     },
     "execution_count": 4,
     "metadata": {},
     "output_type": "execute_result"
    }
   ],
   "source": [
    "import numpy as np\n",
    "x=np.array([0,30,45,60,90])\n",
    "np.sin(x*np.pi/180)"
   ]
  },
  {
   "cell_type": "code",
   "execution_count": 6,
   "metadata": {},
   "outputs": [
    {
     "name": "stdout",
     "output_type": "stream",
     "text": [
      "X: [ 0 30 45 60 90]\n",
      "Y: [0.         0.5        0.70710678 0.8660254  1.        ]\n"
     ]
    },
    {
     "data": {
      "image/png": "[encoded data removed]",
      "text/plain": [
       "<Figure size 432x288 with 1 Axes>"
      ]
     },
     "metadata": {
      "needs_background": "light"
     },
     "output_type": "display_data"
    }
   ],
   "source": [
    "import matplotlib.pyplot as plt\n",
    "%matplotlib inline                      \n",
    "x=np.array([0,30,45,60,90])  \n",
    "#x=np.arange(0,3*np.pi,0.1)  #here \"a range\" function creates an array in which arguments are (start val,end val,gap)\n",
    "print(\"X:\",x)\n",
    "y=np.sin(x*np.pi/180)\n",
    "print(\"Y:\",y)\n",
    "plt.plot(x,y)\n",
    "plt.show()"
   ]
  },
  {
   "cell_type": "code",
   "execution_count": 9,
   "metadata": {},
   "outputs": [
    {
     "data": {
      "text/plain": [
       "[<matplotlib.lines.Line2D at 0x181aa09a288>]"
      ]
     },
     "execution_count": 9,
     "metadata": {},
     "output_type": "execute_result"
    },
    {
     "data": {
      "image/png": "[encoded data removed]",
      "text/plain": [
       "<Figure size 432x288 with 1 Axes>"
      ]
     },
     "metadata": {
      "needs_background": "light"
     },
     "output_type": "display_data"
    }
   ],
   "source": [
    "x = np.linspace(0,10,100)\n",
    "plt.plot( x, np.sin(x))"
   ]
  },
  {
   "cell_type": "code",
   "execution_count": 11,
   "metadata": {},
   "outputs": [
    {
     "data": {
      "image/png": "[encoded data removed]",
      "text/plain": [
       "<Figure size 432x288 with 1 Axes>"
      ]
     },
     "metadata": {
      "needs_background": "light"
     },
     "output_type": "display_data"
    }
   ],
   "source": [
    "x = np.linspace(0,10,100)\n",
    "plt.plot( x, np.sin(x))\n",
    "plt.plot( x, np.cos(x));"
   ]
  },
  {
   "cell_type": "code",
   "execution_count": 13,
   "metadata": {},
   "outputs": [
    {
     "data": {
      "application/javascript": [
       "/* Put everything inside the global mpl namespace */\n",
       "window.mpl = {};\n",
       "\n",
       "\n",
       "mpl.get_websocket_type = function() {\n",
       "    if (typeof(WebSocket) !== 'undefined') {\n",
       "        return WebSocket;\n",
       "    } else if (typeof(MozWebSocket) !== 'undefined') {\n",
       "        return MozWebSocket;\n",
       "    } else {\n",
       "        alert('Your browser does not have WebSocket support. ' +\n",
       "              'Please try Chrome, Safari or Firefox ≥ 6. ' +\n",
       "              'Firefox 4 and 5 are also supported but you ' +\n",
       "              'have to enable WebSockets in about:config.');\n",
       "    };\n",
       "}\n",
       "\n",
       "mpl.figure = function(figure_id, websocket, ondownload, parent_element) {\n",
       "    this.id = figure_id;\n",
       "\n",
       "    this.ws = websocket;\n",
       "\n",
       "    this.supports_binary = (this.ws.binaryType != undefined);\n",
       "\n",
       "    if (!this.supports_binary) {\n",
       "        var warnings = document.getElementById(\"mpl-warnings\");\n",
       "        if (warnings) {\n",
       "            warnings.style.display = 'block';\n",
       "            warnings.textContent = (\n",
       "                \"This browser does not support binary websocket messages. \" +\n",
       "                    \"Performance may be slow.\");\n",
       "        }\n",
       "    }\n",
       "\n",
       "    this.imageObj = new Image();\n",
       "\n",
       "    this.context = undefined;\n",
       "    this.message = undefined;\n",
       "    this.canvas = undefined;\n",
       "    this.rubberband_canvas = undefined;\n",
       "    this.rubberband_context = undefined;\n",
       "    this.format_dropdown = undefined;\n",
       "\n",
       "    this.image_mode = 'full';\n",
       "\n",
       "    this.root = $('<div/>');\n",
       "    this._root_extra_style(this.root)\n",
       "    this.root.attr('style', 'display: inline-block');\n",
       "\n",
       "    $(parent_element).append(this.root);\n",
       "\n",
       "    this._init_header(this);\n",
       "    this._init_canvas(this);\n",
       "    this._init_toolbar(this);\n",
       "\n",
       "    var fig = this;\n",
       "\n",
       "    this.waiting = false;\n",
       "\n",
       "    this.ws.onopen =  function () {\n",
       "            fig.send_message(\"supports_binary\", {value: fig.supports_binary});\n",
       "            fig.send_message(\"send_image_mode\", {});\n",
       "            if (mpl.ratio != 1) {\n",
       "                fig.send_message(\"set_dpi_ratio\", {'dpi_ratio': mpl.ratio});\n",
       "            }\n",
       "            fig.send_message(\"refresh\", {});\n",
       "        }\n",
       "\n",
       "    this.imageObj.onload = function() {\n",
       "            if (fig.image_mode == 'full') {\n",
       "                // Full images could contain transparency (where diff images\n",
       "                // almost always do), so we need to clear the canvas so that\n",
       "                // there is no ghosting.\n",
       "                fig.context.clearRect(0, 0, fig.canvas.width, fig.canvas.height);\n",
       "            }\n",
       "            fig.context.drawImage(fig.imageObj, 0, 0);\n",
       "        };\n",
       "\n",
       "    this.imageObj.onunload = function() {\n",
       "        fig.ws.close();\n",
       "    }\n",
       "\n",
       "    this.ws.onmessage = this._make_on_message_function(this);\n",
       "\n",
       "    this.ondownload = ondownload;\n",
       "}\n",
       "\n",
       "mpl.figure.prototype._init_header = function() {\n",
       "    var titlebar = $(\n",
       "        '<div class=\"ui-dialog-titlebar ui-widget-header ui-corner-all ' +\n",
       "        'ui-helper-clearfix\"/>');\n",
       "    var titletext = $(\n",
       "        '<div class=\"ui-dialog-title\" style=\"width: 100%; ' +\n",
       "        'text-align: center; padding: 3px;\"/>');\n",
       "    titlebar.append(titletext)\n",
       "    this.root.append(titlebar);\n",
       "    this.header = titletext[0];\n",
       "}\n",
       "\n",
       "\n",
       "\n",
       "mpl.figure.prototype._canvas_extra_style = function(canvas_div) {\n",
       "\n",
       "}\n",
       "\n",
       "\n",
       "mpl.figure.prototype._root_extra_style = function(canvas_div) {\n",
       "\n",
       "}\n",
       "\n",
       "mpl.figure.prototype._init_canvas = function() {\n",
       "    var fig = this;\n",
       "\n",
       "    var canvas_div = $('<div/>');\n",
       "\n",
       "    canvas_div.attr('style', 'position: relative; clear: both; outline: 0');\n",
       "\n",
       "    function canvas_keyboard_event(event) {\n",
       "        return fig.key_event(event, event['data']);\n",
       "    }\n",
       "\n",
       "    canvas_div.keydown('key_press', canvas_keyboard_event);\n",
       "    canvas_div.keyup('key_release', canvas_keyboard_event);\n",
       "    this.canvas_div = canvas_div\n",
       "    this._canvas_extra_style(canvas_div)\n",
       "    this.root.append(canvas_div);\n",
       "\n",
       "    var canvas = $('<canvas/>');\n",
       "    canvas.addClass('mpl-canvas');\n",
       "    canvas.attr('style', \"left: 0; top: 0; z-index: 0; outline: 0\")\n",
       "\n",
       "    this.canvas = canvas[0];\n",
       "    this.context = canvas[0].getContext(\"2d\");\n",
       "\n",
       "    var backingStore = this.context.backingStorePixelRatio ||\n",
       "\tthis.context.webkitBackingStorePixelRatio ||\n",
       "\tthis.context.mozBackingStorePixelRatio ||\n",
       "\tthis.context.msBackingStorePixelRatio ||\n",
       "\tthis.context.oBackingStorePixelRatio ||\n",
       "\tthis.context.backingStorePixelRatio || 1;\n",
       "\n",
       "    mpl.ratio = (window.devicePixelRatio || 1) / backingStore;\n",
       "\n",
       "    var rubberband = $('<canvas/>');\n",
       "    rubberband.attr('style', \"position: absolute; left: 0; top: 0; z-index: 1;\")\n",
       "\n",
       "    var pass_mouse_events = true;\n",
       "\n",
       "    canvas_div.resizable({\n",
       "        start: function(event, ui) {\n",
       "            pass_mouse_events = false;\n",
       "        },\n",
       "        resize: function(event, ui) {\n",
       "            fig.request_resize(ui.size.width, ui.size.height);\n",
       "        },\n",
       "        stop: function(event, ui) {\n",
       "            pass_mouse_events = true;\n",
       "            fig.request_resize(ui.size.width, ui.size.height);\n",
       "        },\n",
       "    });\n",
       "\n",
       "    function mouse_event_fn(event) {\n",
       "        if (pass_mouse_events)\n",
       "            return fig.mouse_event(event, event['data']);\n",
       "    }\n",
       "\n",
       "    rubberband.mousedown('button_press', mouse_event_fn);\n",
       "    rubberband.mouseup('button_release', mouse_event_fn);\n",
       "    // Throttle sequential mouse events to 1 every 20ms.\n",
       "    rubberband.mousemove('motion_notify', mouse_event_fn);\n",
       "\n",
       "    rubberband.mouseenter('figure_enter', mouse_event_fn);\n",
       "    rubberband.mouseleave('figure_leave', mouse_event_fn);\n",
       "\n",
       "    canvas_div.on(\"wheel\", function (event) {\n",
       "        event = event.originalEvent;\n",
       "        event['data'] = 'scroll'\n",
       "        if (event.deltaY < 0) {\n",
       "            event.step = 1;\n",
       "        } else {\n",
       "            event.step = -1;\n",
       "        }\n",
       "        mouse_event_fn(event);\n",
       "    });\n",
       "\n",
       "    canvas_div.append(canvas);\n",
       "    canvas_div.append(rubberband);\n",
       "\n",
       "    this.rubberband = rubberband;\n",
       "    this.rubberband_canvas = rubberband[0];\n",
       "    this.rubberband_context = rubberband[0].getContext(\"2d\");\n",
       "    this.rubberband_context.strokeStyle = \"#000000\";\n",
       "\n",
       "    this._resize_canvas = function(width, height) {\n",
       "        // Keep the size of the canvas, canvas container, and rubber band\n",
       "        // canvas in synch.\n",
       "        canvas_div.css('width', width)\n",
       "        canvas_div.css('height', height)\n",
       "\n",
       "        canvas.attr('width', width * mpl.ratio);\n",
       "        canvas.attr('height', height * mpl.ratio);\n",
       "        canvas.attr('style', 'width: ' + width + 'px; height: ' + height + 'px;');\n",
       "\n",
       "        rubberband.attr('width', width);\n",
       "        rubberband.attr('height', height);\n",
       "    }\n",
       "\n",
       "    // Set the figure to an initial 600x600px, this will subsequently be updated\n",
       "    // upon first draw.\n",
       "    this._resize_canvas(600, 600);\n",
       "\n",
       "    // Disable right mouse context menu.\n",
       "    $(this.rubberband_canvas).bind(\"contextmenu\",function(e){\n",
       "        return false;\n",
       "    });\n",
       "\n",
       "    function set_focus () {\n",
       "        canvas.focus();\n",
       "        canvas_div.focus();\n",
       "    }\n",
       "\n",
       "    window.setTimeout(set_focus, 100);\n",
       "}\n",
       "\n",
       "mpl.figure.prototype._init_toolbar = function() {\n",
       "    var fig = this;\n",
       "\n",
       "    var nav_element = $('<div/>');\n",
       "    nav_element.attr('style', 'width: 100%');\n",
       "    this.root.append(nav_element);\n",
       "\n",
       "    // Define a callback function for later on.\n",
       "    function toolbar_event(event) {\n",
       "        return fig.toolbar_button_onclick(event['data']);\n",
       "    }\n",
       "    function toolbar_mouse_event(event) {\n",
       "        return fig.toolbar_button_onmouseover(event['data']);\n",
       "    }\n",
       "\n",
       "    for(var toolbar_ind in mpl.toolbar_items) {\n",
       "        var name = mpl.toolbar_items[toolbar_ind][0];\n",
       "        var tooltip = mpl.toolbar_items[toolbar_ind][1];\n",
       "        var image = mpl.toolbar_items[toolbar_ind][2];\n",
       "        var method_name = mpl.toolbar_items[toolbar_ind][3];\n",
       "\n",
       "        if (!name) {\n",
       "            // put a spacer in here.\n",
       "            continue;\n",
       "        }\n",
       "        var button = $('<button/>');\n",
       "        button.addClass('ui-button ui-widget ui-state-default ui-corner-all ' +\n",
       "                        'ui-button-icon-only');\n",
       "        button.attr('role', 'button');\n",
       "        button.attr('aria-disabled', 'false');\n",
       "        button.click(method_name, toolbar_event);\n",
       "        button.mouseover(tooltip, toolbar_mouse_event);\n",
       "\n",
       "        var icon_img = $('<span/>');\n",
       "        icon_img.addClass('ui-button-icon-primary ui-icon');\n",
       "        icon_img.addClass(image);\n",
       "        icon_img.addClass('ui-corner-all');\n",
       "\n",
       "        var tooltip_span = $('<span/>');\n",
       "        tooltip_span.addClass('ui-button-text');\n",
       "        tooltip_span.html(tooltip);\n",
       "\n",
       "        button.append(icon_img);\n",
       "        button.append(tooltip_span);\n",
       "\n",
       "        nav_element.append(button);\n",
       "    }\n",
       "\n",
       "    var fmt_picker_span = $('<span/>');\n",
       "\n",
       "    var fmt_picker = $('<select/>');\n",
       "    fmt_picker.addClass('mpl-toolbar-option ui-widget ui-widget-content');\n",
       "    fmt_picker_span.append(fmt_picker);\n",
       "    nav_element.append(fmt_picker_span);\n",
       "    this.format_dropdown = fmt_picker[0];\n",
       "\n",
       "    for (var ind in mpl.extensions) {\n",
       "        var fmt = mpl.extensions[ind];\n",
       "        var option = $(\n",
       "            '<option/>', {selected: fmt === mpl.default_extension}).html(fmt);\n",
       "        fmt_picker.append(option);\n",
       "    }\n",
       "\n",
       "    // Add hover states to the ui-buttons\n",
       "    $( \".ui-button\" ).hover(\n",
       "        function() { $(this).addClass(\"ui-state-hover\");},\n",
       "        function() { $(this).removeClass(\"ui-state-hover\");}\n",
       "    );\n",
       "\n",
       "    var status_bar = $('<span class=\"mpl-message\"/>');\n",
       "    nav_element.append(status_bar);\n",
       "    this.message = status_bar[0];\n",
       "}\n",
       "\n",
       "mpl.figure.prototype.request_resize = function(x_pixels, y_pixels) {\n",
       "    // Request matplotlib to resize the figure. Matplotlib will then trigger a resize in the client,\n",
       "    // which will in turn request a refresh of the image.\n",
       "    this.send_message('resize', {'width': x_pixels, 'height': y_pixels});\n",
       "}\n",
       "\n",
       "mpl.figure.prototype.send_message = function(type, properties) {\n",
       "    properties['type'] = type;\n",
       "    properties['figure_id'] = this.id;\n",
       "    this.ws.send(JSON.stringify(properties));\n",
       "}\n",
       "\n",
       "mpl.figure.prototype.send_draw_message = function() {\n",
       "    if (!this.waiting) {\n",
       "        this.waiting = true;\n",
       "        this.ws.send(JSON.stringify({type: \"draw\", figure_id: this.id}));\n",
       "    }\n",
       "}\n",
       "\n",
       "\n",
       "mpl.figure.prototype.handle_save = function(fig, msg) {\n",
       "    var format_dropdown = fig.format_dropdown;\n",
       "    var format = format_dropdown.options[format_dropdown.selectedIndex].value;\n",
       "    fig.ondownload(fig, format);\n",
       "}\n",
       "\n",
       "\n",
       "mpl.figure.prototype.handle_resize = function(fig, msg) {\n",
       "    var size = msg['size'];\n",
       "    if (size[0] != fig.canvas.width || size[1] != fig.canvas.height) {\n",
       "        fig._resize_canvas(size[0], size[1]);\n",
       "        fig.send_message(\"refresh\", {});\n",
       "    };\n",
       "}\n",
       "\n",
       "mpl.figure.prototype.handle_rubberband = function(fig, msg) {\n",
       "    var x0 = msg['x0'] / mpl.ratio;\n",
       "    var y0 = (fig.canvas.height - msg['y0']) / mpl.ratio;\n",
       "    var x1 = msg['x1'] / mpl.ratio;\n",
       "    var y1 = (fig.canvas.height - msg['y1']) / mpl.ratio;\n",
       "    x0 = Math.floor(x0) + 0.5;\n",
       "    y0 = Math.floor(y0) + 0.5;\n",
       "    x1 = Math.floor(x1) + 0.5;\n",
       "    y1 = Math.floor(y1) + 0.5;\n",
       "    var min_x = Math.min(x0, x1);\n",
       "    var min_y = Math.min(y0, y1);\n",
       "    var width = Math.abs(x1 - x0);\n",
       "    var height = Math.abs(y1 - y0);\n",
       "\n",
       "    fig.rubberband_context.clearRect(\n",
       "        0, 0, fig.canvas.width / mpl.ratio, fig.canvas.height / mpl.ratio);\n",
       "\n",
       "    fig.rubberband_context.strokeRect(min_x, min_y, width, height);\n",
       "}\n",
       "\n",
       "mpl.figure.prototype.handle_figure_label = function(fig, msg) {\n",
       "    // Updates the figure title.\n",
       "    fig.header.textContent = msg['label'];\n",
       "}\n",
       "\n",
       "mpl.figure.prototype.handle_cursor = function(fig, msg) {\n",
       "    var cursor = msg['cursor'];\n",
       "    switch(cursor)\n",
       "    {\n",
       "    case 0:\n",
       "        cursor = 'pointer';\n",
       "        break;\n",
       "    case 1:\n",
       "        cursor = 'default';\n",
       "        break;\n",
       "    case 2:\n",
       "        cursor = 'crosshair';\n",
       "        break;\n",
       "    case 3:\n",
       "        cursor = 'move';\n",
       "        break;\n",
       "    }\n",
       "    fig.rubberband_canvas.style.cursor = cursor;\n",
       "}\n",
       "\n",
       "mpl.figure.prototype.handle_message = function(fig, msg) {\n",
       "    fig.message.textContent = msg['message'];\n",
       "}\n",
       "\n",
       "mpl.figure.prototype.handle_draw = function(fig, msg) {\n",
       "    // Request the server to send over a new figure.\n",
       "    fig.send_draw_message();\n",
       "}\n",
       "\n",
       "mpl.figure.prototype.handle_image_mode = function(fig, msg) {\n",
       "    fig.image_mode = msg['mode'];\n",
       "}\n",
       "\n",
       "mpl.figure.prototype.updated_canvas_event = function() {\n",
       "    // Called whenever the canvas gets updated.\n",
       "    this.send_message(\"ack\", {});\n",
       "}\n",
       "\n",
       "// A function to construct a web socket function for onmessage handling.\n",
       "// Called in the figure constructor.\n",
       "mpl.figure.prototype._make_on_message_function = function(fig) {\n",
       "    return function socket_on_message(evt) {\n",
       "        if (evt.data instanceof Blob) {\n",
       "            /* FIXME: We get \"Resource interpreted as Image but\n",
       "             * transferred with MIME type text/plain:\" errors on\n",
       "             * Chrome.  But how to set the MIME type?  It doesn't seem\n",
       "             * to be part of the websocket stream */\n",
       "            evt.data.type = \"image/png\";\n",
       "\n",
       "            /* Free the memory for the previous frames */\n",
       "            if (fig.imageObj.src) {\n",
       "                (window.URL || window.webkitURL).revokeObjectURL(\n",
       "                    fig.imageObj.src);\n",
       "            }\n",
       "\n",
       "            fig.imageObj.src = (window.URL || window.webkitURL).createObjectURL(\n",
       "                evt.data);\n",
       "            fig.updated_canvas_event();\n",
       "            fig.waiting = false;\n",
       "            return;\n",
       "        }\n",
       "        else if (typeof evt.data === 'string' && evt.data.slice(0, 21) == \"data:image/png;base64\") {\n",
       "            fig.imageObj.src = evt.data;\n",
       "            fig.updated_canvas_event();\n",
       "            fig.waiting = false;\n",
       "            return;\n",
       "        }\n",
       "\n",
       "        var msg = JSON.parse(evt.data);\n",
       "        var msg_type = msg['type'];\n",
       "\n",
       "        // Call the  \"handle_{type}\" callback, which takes\n",
       "        // the figure and JSON message as its only arguments.\n",
       "        try {\n",
       "            var callback = fig[\"handle_\" + msg_type];\n",
       "        } catch (e) {\n",
       "            console.log(\"No handler for the '\" + msg_type + \"' message type: \", msg);\n",
       "            return;\n",
       "        }\n",
       "\n",
       "        if (callback) {\n",
       "            try {\n",
       "                // console.log(\"Handling '\" + msg_type + \"' message: \", msg);\n",
       "                callback(fig, msg);\n",
       "            } catch (e) {\n",
       "                console.log(\"Exception inside the 'handler_\" + msg_type + \"' callback:\", e, e.stack, msg);\n",
       "            }\n",
       "        }\n",
       "    };\n",
       "}\n",
       "\n",
       "// from http://stackoverflow.com/questions/1114465/getting-mouse-location-in-canvas\n",
       "mpl.findpos = function(e) {\n",
       "    //this section is from http://www.quirksmode.org/js/events_properties.html\n",
       "    var targ;\n",
       "    if (!e)\n",
       "        e = window.event;\n",
       "    if (e.target)\n",
       "        targ = e.target;\n",
       "    else if (e.srcElement)\n",
       "        targ = e.srcElement;\n",
       "    if (targ.nodeType == 3) // defeat Safari bug\n",
       "        targ = targ.parentNode;\n",
       "\n",
       "    // jQuery normalizes the pageX and pageY\n",
       "    // pageX,Y are the mouse positions relative to the document\n",
       "    // offset() returns the position of the element relative to the document\n",
       "    var x = e.pageX - $(targ).offset().left;\n",
       "    var y = e.pageY - $(targ).offset().top;\n",
       "\n",
       "    return {\"x\": x, \"y\": y};\n",
       "};\n",
       "\n",
       "/*\n",
       " * return a copy of an object with only non-object keys\n",
       " * we need this to avoid circular references\n",
       " * http://stackoverflow.com/a/24161582/3208463\n",
       " */\n",
       "function simpleKeys (original) {\n",
       "  return Object.keys(original).reduce(function (obj, key) {\n",
       "    if (typeof original[key] !== 'object')\n",
       "        obj[key] = original[key]\n",
       "    return obj;\n",
       "  }, {});\n",
       "}\n",
       "\n",
       "mpl.figure.prototype.mouse_event = function(event, name) {\n",
       "    var canvas_pos = mpl.findpos(event)\n",
       "\n",
       "    if (name === 'button_press')\n",
       "    {\n",
       "        this.canvas.focus();\n",
       "        this.canvas_div.focus();\n",
       "    }\n",
       "\n",
       "    var x = canvas_pos.x * mpl.ratio;\n",
       "    var y = canvas_pos.y * mpl.ratio;\n",
       "\n",
       "    this.send_message(name, {x: x, y: y, button: event.button,\n",
       "                             step: event.step,\n",
       "                             guiEvent: simpleKeys(event)});\n",
       "\n",
       "    /* This prevents the web browser from automatically changing to\n",
       "     * the text insertion cursor when the button is pressed.  We want\n",
       "     * to control all of the cursor setting manually through the\n",
       "     * 'cursor' event from matplotlib */\n",
       "    event.preventDefault();\n",
       "    return false;\n",
       "}\n",
       "\n",
       "mpl.figure.prototype._key_event_extra = function(event, name) {\n",
       "    // Handle any extra behaviour associated with a key event\n",
       "}\n",
       "\n",
       "mpl.figure.prototype.key_event = function(event, name) {\n",
       "\n",
       "    // Prevent repeat events\n",
       "    if (name == 'key_press')\n",
       "    {\n",
       "        if (event.which === this._key)\n",
       "            return;\n",
       "        else\n",
       "            this._key = event.which;\n",
       "    }\n",
       "    if (name == 'key_release')\n",
       "        this._key = null;\n",
       "\n",
       "    var value = '';\n",
       "    if (event.ctrlKey && event.which != 17)\n",
       "        value += \"ctrl+\";\n",
       "    if (event.altKey && event.which != 18)\n",
       "        value += \"alt+\";\n",
       "    if (event.shiftKey && event.which != 16)\n",
       "        value += \"shift+\";\n",
       "\n",
       "    value += 'k';\n",
       "    value += event.which.toString();\n",
       "\n",
       "    this._key_event_extra(event, name);\n",
       "\n",
       "    this.send_message(name, {key: value,\n",
       "                             guiEvent: simpleKeys(event)});\n",
       "    return false;\n",
       "}\n",
       "\n",
       "mpl.figure.prototype.toolbar_button_onclick = function(name) {\n",
       "    if (name == 'download') {\n",
       "        this.handle_save(this, null);\n",
       "    } else {\n",
       "        this.send_message(\"toolbar_button\", {name: name});\n",
       "    }\n",
       "};\n",
       "\n",
       "mpl.figure.prototype.toolbar_button_onmouseover = function(tooltip) {\n",
       "    this.message.textContent = tooltip;\n",
       "};\n",
       "mpl.toolbar_items = [[\"Home\", \"Reset original view\", \"fa fa-home icon-home\", \"home\"], [\"Back\", \"Back to previous view\", \"fa fa-arrow-left icon-arrow-left\", \"back\"], [\"Forward\", \"Forward to next view\", \"fa fa-arrow-right icon-arrow-right\", \"forward\"], [\"\", \"\", \"\", \"\"], [\"Pan\", \"Pan axes with left mouse, zoom with right\", \"fa fa-arrows icon-move\", \"pan\"], [\"Zoom\", \"Zoom to rectangle\", \"fa fa-square-o icon-check-empty\", \"zoom\"], [\"\", \"\", \"\", \"\"], [\"Download\", \"Download plot\", \"fa fa-floppy-o icon-save\", \"download\"]];\n",
       "\n",
       "mpl.extensions = [\"eps\", \"jpeg\", \"pdf\", \"png\", \"ps\", \"raw\", \"svg\", \"tif\"];\n",
       "\n",
       "mpl.default_extension = \"png\";var comm_websocket_adapter = function(comm) {\n",
       "    // Create a \"websocket\"-like object which calls the given IPython comm\n",
       "    // object with the appropriate methods. Currently this is a non binary\n",
       "    // socket, so there is still some room for performance tuning.\n",
       "    var ws = {};\n",
       "\n",
       "    ws.close = function() {\n",
       "        comm.close()\n",
       "    };\n",
       "    ws.send = function(m) {\n",
       "        //console.log('sending', m);\n",
       "        comm.send(m);\n",
       "    };\n",
       "    // Register the callback with on_msg.\n",
       "    comm.on_msg(function(msg) {\n",
       "        //console.log('receiving', msg['content']['data'], msg);\n",
       "        // Pass the mpl event to the overridden (by mpl) onmessage function.\n",
       "        ws.onmessage(msg['content']['data'])\n",
       "    });\n",
       "    return ws;\n",
       "}\n",
       "\n",
       "mpl.mpl_figure_comm = function(comm, msg) {\n",
       "    // This is the function which gets called when the mpl process\n",
       "    // starts-up an IPython Comm through the \"matplotlib\" channel.\n",
       "\n",
       "    var id = msg.content.data.id;\n",
       "    // Get hold of the div created by the display call when the Comm\n",
       "    // socket was opened in Python.\n",
       "    var element = $(\"#\" + id);\n",
       "    var ws_proxy = comm_websocket_adapter(comm)\n",
       "\n",
       "    function ondownload(figure, format) {\n",
       "        window.open(figure.imageObj.src);\n",
       "    }\n",
       "\n",
       "    var fig = new mpl.figure(id, ws_proxy,\n",
       "                           ondownload,\n",
       "                           element.get(0));\n",
       "\n",
       "    // Call onopen now - mpl needs it, as it is assuming we've passed it a real\n",
       "    // web socket which is closed, not our websocket->open comm proxy.\n",
       "    ws_proxy.onopen();\n",
       "\n",
       "    fig.parent_element = element.get(0);\n",
       "    fig.cell_info = mpl.find_output_cell(\"<div id='\" + id + \"'></div>\");\n",
       "    if (!fig.cell_info) {\n",
       "        console.error(\"Failed to find cell for figure\", id, fig);\n",
       "        return;\n",
       "    }\n",
       "\n",
       "    var output_index = fig.cell_info[2]\n",
       "    var cell = fig.cell_info[0];\n",
       "\n",
       "};\n",
       "\n",
       "mpl.figure.prototype.handle_close = function(fig, msg) {\n",
       "    var width = fig.canvas.width/mpl.ratio\n",
       "    fig.root.unbind('remove')\n",
       "\n",
       "    // Update the output cell to use the data from the current canvas.\n",
       "    fig.push_to_output();\n",
       "    var dataURL = fig.canvas.toDataURL();\n",
       "    // Re-enable the keyboard manager in IPython - without this line, in FF,\n",
       "    // the notebook keyboard shortcuts fail.\n",
       "    IPython.keyboard_manager.enable()\n",
       "    $(fig.parent_element).html('<img src=\"' + dataURL + '\" width=\"' + width + '\">');\n",
       "    fig.close_ws(fig, msg);\n",
       "}\n",
       "\n",
       "mpl.figure.prototype.close_ws = function(fig, msg){\n",
       "    fig.send_message('closing', msg);\n",
       "    // fig.ws.close()\n",
       "}\n",
       "\n",
       "mpl.figure.prototype.push_to_output = function(remove_interactive) {\n",
       "    // Turn the data on the canvas into data in the output cell.\n",
       "    var width = this.canvas.width/mpl.ratio\n",
       "    var dataURL = this.canvas.toDataURL();\n",
       "    this.cell_info[1]['text/html'] = '<img src=\"' + dataURL + '\" width=\"' + width + '\">';\n",
       "}\n",
       "\n",
       "mpl.figure.prototype.updated_canvas_event = function() {\n",
       "    // Tell IPython that the notebook contents must change.\n",
       "    IPython.notebook.set_dirty(true);\n",
       "    this.send_message(\"ack\", {});\n",
       "    var fig = this;\n",
       "    // Wait a second, then push the new image to the DOM so\n",
       "    // that it is saved nicely (might be nice to debounce this).\n",
       "    setTimeout(function () { fig.push_to_output() }, 1000);\n",
       "}\n",
       "\n",
       "mpl.figure.prototype._init_toolbar = function() {\n",
       "    var fig = this;\n",
       "\n",
       "    var nav_element = $('<div/>');\n",
       "    nav_element.attr('style', 'width: 100%');\n",
       "    this.root.append(nav_element);\n",
       "\n",
       "    // Define a callback function for later on.\n",
       "    function toolbar_event(event) {\n",
       "        return fig.toolbar_button_onclick(event['data']);\n",
       "    }\n",
       "    function toolbar_mouse_event(event) {\n",
       "        return fig.toolbar_button_onmouseover(event['data']);\n",
       "    }\n",
       "\n",
       "    for(var toolbar_ind in mpl.toolbar_items){\n",
       "        var name = mpl.toolbar_items[toolbar_ind][0];\n",
       "        var tooltip = mpl.toolbar_items[toolbar_ind][1];\n",
       "        var image = mpl.toolbar_items[toolbar_ind][2];\n",
       "        var method_name = mpl.toolbar_items[toolbar_ind][3];\n",
       "\n",
       "        if (!name) { continue; };\n",
       "\n",
       "        var button = $('<button class=\"btn btn-default\" href=\"#\" title=\"' + name + '\"><i class=\"fa ' + image + ' fa-lg\"></i></button>');\n",
       "        button.click(method_name, toolbar_event);\n",
       "        button.mouseover(tooltip, toolbar_mouse_event);\n",
       "        nav_element.append(button);\n",
       "    }\n",
       "\n",
       "    // Add the status bar.\n",
       "    var status_bar = $('<span class=\"mpl-message\" style=\"text-align:right; float: right;\"/>');\n",
       "    nav_element.append(status_bar);\n",
       "    this.message = status_bar[0];\n",
       "\n",
       "    // Add the close button to the window.\n",
       "    var buttongrp = $('<div class=\"btn-group inline pull-right\"></div>');\n",
       "    var button = $('<button class=\"btn btn-mini btn-primary\" href=\"#\" title=\"Stop Interaction\"><i class=\"fa fa-power-off icon-remove icon-large\"></i></button>');\n",
       "    button.click(function (evt) { fig.handle_close(fig, {}); } );\n",
       "    button.mouseover('Stop Interaction', toolbar_mouse_event);\n",
       "    buttongrp.append(button);\n",
       "    var titlebar = this.root.find($('.ui-dialog-titlebar'));\n",
       "    titlebar.prepend(buttongrp);\n",
       "}\n",
       "\n",
       "mpl.figure.prototype._root_extra_style = function(el){\n",
       "    var fig = this\n",
       "    el.on(\"remove\", function(){\n",
       "\tfig.close_ws(fig, {});\n",
       "    });\n",
       "}\n",
       "\n",
       "mpl.figure.prototype._canvas_extra_style = function(el){\n",
       "    // this is important to make the div 'focusable\n",
       "    el.attr('tabindex', 0)\n",
       "    // reach out to IPython and tell the keyboard manager to turn it's self\n",
       "    // off when our div gets focus\n",
       "\n",
       "    // location in version 3\n",
       "    if (IPython.notebook.keyboard_manager) {\n",
       "        IPython.notebook.keyboard_manager.register_events(el);\n",
       "    }\n",
       "    else {\n",
       "        // location in version 2\n",
       "        IPython.keyboard_manager.register_events(el);\n",
       "    }\n",
       "\n",
       "}\n",
       "\n",
       "mpl.figure.prototype._key_event_extra = function(event, name) {\n",
       "    var manager = IPython.notebook.keyboard_manager;\n",
       "    if (!manager)\n",
       "        manager = IPython.keyboard_manager;\n",
       "\n",
       "    // Check for shift+enter\n",
       "    if (event.shiftKey && event.which == 13) {\n",
       "        this.canvas_div.blur();\n",
       "        // select the cell after this one\n",
       "        var index = IPython.notebook.find_cell_index(this.cell_info[0]);\n",
       "        IPython.notebook.select(index + 1);\n",
       "    }\n",
       "}\n",
       "\n",
       "mpl.figure.prototype.handle_save = function(fig, msg) {\n",
       "    fig.ondownload(fig, null);\n",
       "}\n",
       "\n",
       "\n",
       "mpl.find_output_cell = function(html_output) {\n",
       "    // Return the cell and output element which can be found *uniquely* in the notebook.\n",
       "    // Note - this is a bit hacky, but it is done because the \"notebook_saving.Notebook\"\n",
       "    // IPython event is triggered only after the cells have been serialised, which for\n",
       "    // our purposes (turning an active figure into a static one), is too late.\n",
       "    var cells = IPython.notebook.get_cells();\n",
       "    var ncells = cells.length;\n",
       "    for (var i=0; i<ncells; i++) {\n",
       "        var cell = cells[i];\n",
       "        if (cell.cell_type === 'code'){\n",
       "            for (var j=0; j<cell.output_area.outputs.length; j++) {\n",
       "                var data = cell.output_area.outputs[j];\n",
       "                if (data.data) {\n",
       "                    // IPython >= 3 moved mimebundle to data attribute of output\n",
       "                    data = data.data;\n",
       "                }\n",
       "                if (data['text/html'] == html_output) {\n",
       "                    return [cell, data, j];\n",
       "                }\n",
       "            }\n",
       "        }\n",
       "    }\n",
       "}\n",
       "\n",
       "// Register the function which deals with the matplotlib target/channel.\n",
       "// The kernel may be null if the page has been refreshed.\n",
       "if (IPython.notebook.kernel != null) {\n",
       "    IPython.notebook.kernel.comm_manager.register_target('matplotlib', mpl.mpl_figure_comm);\n",
       "}\n"
      ],
      "text/plain": [
       "<IPython.core.display.Javascript object>"
      ]
     },
     "metadata": {},
     "output_type": "display_data"
    },
    {
     "data": {
      "text/html": [
       "<img src=\"data:image/png;base64,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\" width=\"431.66664951377516\">"
      ],
      "text/plain": [
       "<IPython.core.display.HTML object>"
      ]
     },
     "metadata": {},
     "output_type": "display_data"
    },
    {
     "data": {
      "text/plain": [
       "[<matplotlib.lines.Line2D at 0x181aa253ec8>]"
      ]
     },
     "execution_count": 13,
     "metadata": {},
     "output_type": "execute_result"
    }
   ],
   "source": [
    "%matplotlib notebook\n",
    "x = np.linspace(0,10,100)\n",
    "plt.plot( x, np.sin(x))\n",
    "plt.plot( x, np.cos(x))"
   ]
  },
  {
   "cell_type": "code",
   "execution_count": 14,
   "metadata": {},
   "outputs": [
    {
     "data": {
      "application/javascript": [
       "/* Put everything inside the global mpl namespace */\n",
       "window.mpl = {};\n",
       "\n",
       "\n",
       "mpl.get_websocket_type = function() {\n",
       "    if (typeof(WebSocket) !== 'undefined') {\n",
       "        return WebSocket;\n",
       "    } else if (typeof(MozWebSocket) !== 'undefined') {\n",
       "        return MozWebSocket;\n",
       "    } else {\n",
       "        alert('Your browser does not have WebSocket support. ' +\n",
       "              'Please try Chrome, Safari or Firefox ≥ 6. ' +\n",
       "              'Firefox 4 and 5 are also supported but you ' +\n",
       "              'have to enable WebSockets in about:config.');\n",
       "    };\n",
       "}\n",
       "\n",
       "mpl.figure = function(figure_id, websocket, ondownload, parent_element) {\n",
       "    this.id = figure_id;\n",
       "\n",
       "    this.ws = websocket;\n",
       "\n",
       "    this.supports_binary = (this.ws.binaryType != undefined);\n",
       "\n",
       "    if (!this.supports_binary) {\n",
       "        var warnings = document.getElementById(\"mpl-warnings\");\n",
       "        if (warnings) {\n",
       "            warnings.style.display = 'block';\n",
       "            warnings.textContent = (\n",
       "                \"This browser does not support binary websocket messages. \" +\n",
       "                    \"Performance may be slow.\");\n",
       "        }\n",
       "    }\n",
       "\n",
       "    this.imageObj = new Image();\n",
       "\n",
       "    this.context = undefined;\n",
       "    this.message = undefined;\n",
       "    this.canvas = undefined;\n",
       "    this.rubberband_canvas = undefined;\n",
       "    this.rubberband_context = undefined;\n",
       "    this.format_dropdown = undefined;\n",
       "\n",
       "    this.image_mode = 'full';\n",
       "\n",
       "    this.root = $('<div/>');\n",
       "    this._root_extra_style(this.root)\n",
       "    this.root.attr('style', 'display: inline-block');\n",
       "\n",
       "    $(parent_element).append(this.root);\n",
       "\n",
       "    this._init_header(this);\n",
       "    this._init_canvas(this);\n",
       "    this._init_toolbar(this);\n",
       "\n",
       "    var fig = this;\n",
       "\n",
       "    this.waiting = false;\n",
       "\n",
       "    this.ws.onopen =  function () {\n",
       "            fig.send_message(\"supports_binary\", {value: fig.supports_binary});\n",
       "            fig.send_message(\"send_image_mode\", {});\n",
       "            if (mpl.ratio != 1) {\n",
       "                fig.send_message(\"set_dpi_ratio\", {'dpi_ratio': mpl.ratio});\n",
       "            }\n",
       "            fig.send_message(\"refresh\", {});\n",
       "        }\n",
       "\n",
       "    this.imageObj.onload = function() {\n",
       "            if (fig.image_mode == 'full') {\n",
       "                // Full images could contain transparency (where diff images\n",
       "                // almost always do), so we need to clear the canvas so that\n",
       "                // there is no ghosting.\n",
       "                fig.context.clearRect(0, 0, fig.canvas.width, fig.canvas.height);\n",
       "            }\n",
       "            fig.context.drawImage(fig.imageObj, 0, 0);\n",
       "        };\n",
       "\n",
       "    this.imageObj.onunload = function() {\n",
       "        fig.ws.close();\n",
       "    }\n",
       "\n",
       "    this.ws.onmessage = this._make_on_message_function(this);\n",
       "\n",
       "    this.ondownload = ondownload;\n",
       "}\n",
       "\n",
       "mpl.figure.prototype._init_header = function() {\n",
       "    var titlebar = $(\n",
       "        '<div class=\"ui-dialog-titlebar ui-widget-header ui-corner-all ' +\n",
       "        'ui-helper-clearfix\"/>');\n",
       "    var titletext = $(\n",
       "        '<div class=\"ui-dialog-title\" style=\"width: 100%; ' +\n",
       "        'text-align: center; padding: 3px;\"/>');\n",
       "    titlebar.append(titletext)\n",
       "    this.root.append(titlebar);\n",
       "    this.header = titletext[0];\n",
       "}\n",
       "\n",
       "\n",
       "\n",
       "mpl.figure.prototype._canvas_extra_style = function(canvas_div) {\n",
       "\n",
       "}\n",
       "\n",
       "\n",
       "mpl.figure.prototype._root_extra_style = function(canvas_div) {\n",
       "\n",
       "}\n",
       "\n",
       "mpl.figure.prototype._init_canvas = function() {\n",
       "    var fig = this;\n",
       "\n",
       "    var canvas_div = $('<div/>');\n",
       "\n",
       "    canvas_div.attr('style', 'position: relative; clear: both; outline: 0');\n",
       "\n",
       "    function canvas_keyboard_event(event) {\n",
       "        return fig.key_event(event, event['data']);\n",
       "    }\n",
       "\n",
       "    canvas_div.keydown('key_press', canvas_keyboard_event);\n",
       "    canvas_div.keyup('key_release', canvas_keyboard_event);\n",
       "    this.canvas_div = canvas_div\n",
       "    this._canvas_extra_style(canvas_div)\n",
       "    this.root.append(canvas_div);\n",
       "\n",
       "    var canvas = $('<canvas/>');\n",
       "    canvas.addClass('mpl-canvas');\n",
       "    canvas.attr('style', \"left: 0; top: 0; z-index: 0; outline: 0\")\n",
       "\n",
       "    this.canvas = canvas[0];\n",
       "    this.context = canvas[0].getContext(\"2d\");\n",
       "\n",
       "    var backingStore = this.context.backingStorePixelRatio ||\n",
       "\tthis.context.webkitBackingStorePixelRatio ||\n",
       "\tthis.context.mozBackingStorePixelRatio ||\n",
       "\tthis.context.msBackingStorePixelRatio ||\n",
       "\tthis.context.oBackingStorePixelRatio ||\n",
       "\tthis.context.backingStorePixelRatio || 1;\n",
       "\n",
       "    mpl.ratio = (window.devicePixelRatio || 1) / backingStore;\n",
       "\n",
       "    var rubberband = $('<canvas/>');\n",
       "    rubberband.attr('style', \"position: absolute; left: 0; top: 0; z-index: 1;\")\n",
       "\n",
       "    var pass_mouse_events = true;\n",
       "\n",
       "    canvas_div.resizable({\n",
       "        start: function(event, ui) {\n",
       "            pass_mouse_events = false;\n",
       "        },\n",
       "        resize: function(event, ui) {\n",
       "            fig.request_resize(ui.size.width, ui.size.height);\n",
       "        },\n",
       "        stop: function(event, ui) {\n",
       "            pass_mouse_events = true;\n",
       "            fig.request_resize(ui.size.width, ui.size.height);\n",
       "        },\n",
       "    });\n",
       "\n",
       "    function mouse_event_fn(event) {\n",
       "        if (pass_mouse_events)\n",
       "            return fig.mouse_event(event, event['data']);\n",
       "    }\n",
       "\n",
       "    rubberband.mousedown('button_press', mouse_event_fn);\n",
       "    rubberband.mouseup('button_release', mouse_event_fn);\n",
       "    // Throttle sequential mouse events to 1 every 20ms.\n",
       "    rubberband.mousemove('motion_notify', mouse_event_fn);\n",
       "\n",
       "    rubberband.mouseenter('figure_enter', mouse_event_fn);\n",
       "    rubberband.mouseleave('figure_leave', mouse_event_fn);\n",
       "\n",
       "    canvas_div.on(\"wheel\", function (event) {\n",
       "        event = event.originalEvent;\n",
       "        event['data'] = 'scroll'\n",
       "        if (event.deltaY < 0) {\n",
       "            event.step = 1;\n",
       "        } else {\n",
       "            event.step = -1;\n",
       "        }\n",
       "        mouse_event_fn(event);\n",
       "    });\n",
       "\n",
       "    canvas_div.append(canvas);\n",
       "    canvas_div.append(rubberband);\n",
       "\n",
       "    this.rubberband = rubberband;\n",
       "    this.rubberband_canvas = rubberband[0];\n",
       "    this.rubberband_context = rubberband[0].getContext(\"2d\");\n",
       "    this.rubberband_context.strokeStyle = \"#000000\";\n",
       "\n",
       "    this._resize_canvas = function(width, height) {\n",
       "        // Keep the size of the canvas, canvas container, and rubber band\n",
       "        // canvas in synch.\n",
       "        canvas_div.css('width', width)\n",
       "        canvas_div.css('height', height)\n",
       "\n",
       "        canvas.attr('width', width * mpl.ratio);\n",
       "        canvas.attr('height', height * mpl.ratio);\n",
       "        canvas.attr('style', 'width: ' + width + 'px; height: ' + height + 'px;');\n",
       "\n",
       "        rubberband.attr('width', width);\n",
       "        rubberband.attr('height', height);\n",
       "    }\n",
       "\n",
       "    // Set the figure to an initial 600x600px, this will subsequently be updated\n",
       "    // upon first draw.\n",
       "    this._resize_canvas(600, 600);\n",
       "\n",
       "    // Disable right mouse context menu.\n",
       "    $(this.rubberband_canvas).bind(\"contextmenu\",function(e){\n",
       "        return false;\n",
       "    });\n",
       "\n",
       "    function set_focus () {\n",
       "        canvas.focus();\n",
       "        canvas_div.focus();\n",
       "    }\n",
       "\n",
       "    window.setTimeout(set_focus, 100);\n",
       "}\n",
       "\n",
       "mpl.figure.prototype._init_toolbar = function() {\n",
       "    var fig = this;\n",
       "\n",
       "    var nav_element = $('<div/>');\n",
       "    nav_element.attr('style', 'width: 100%');\n",
       "    this.root.append(nav_element);\n",
       "\n",
       "    // Define a callback function for later on.\n",
       "    function toolbar_event(event) {\n",
       "        return fig.toolbar_button_onclick(event['data']);\n",
       "    }\n",
       "    function toolbar_mouse_event(event) {\n",
       "        return fig.toolbar_button_onmouseover(event['data']);\n",
       "    }\n",
       "\n",
       "    for(var toolbar_ind in mpl.toolbar_items) {\n",
       "        var name = mpl.toolbar_items[toolbar_ind][0];\n",
       "        var tooltip = mpl.toolbar_items[toolbar_ind][1];\n",
       "        var image = mpl.toolbar_items[toolbar_ind][2];\n",
       "        var method_name = mpl.toolbar_items[toolbar_ind][3];\n",
       "\n",
       "        if (!name) {\n",
       "            // put a spacer in here.\n",
       "            continue;\n",
       "        }\n",
       "        var button = $('<button/>');\n",
       "        button.addClass('ui-button ui-widget ui-state-default ui-corner-all ' +\n",
       "                        'ui-button-icon-only');\n",
       "        button.attr('role', 'button');\n",
       "        button.attr('aria-disabled', 'false');\n",
       "        button.click(method_name, toolbar_event);\n",
       "        button.mouseover(tooltip, toolbar_mouse_event);\n",
       "\n",
       "        var icon_img = $('<span/>');\n",
       "        icon_img.addClass('ui-button-icon-primary ui-icon');\n",
       "        icon_img.addClass(image);\n",
       "        icon_img.addClass('ui-corner-all');\n",
       "\n",
       "        var tooltip_span = $('<span/>');\n",
       "        tooltip_span.addClass('ui-button-text');\n",
       "        tooltip_span.html(tooltip);\n",
       "\n",
       "        button.append(icon_img);\n",
       "        button.append(tooltip_span);\n",
       "\n",
       "        nav_element.append(button);\n",
       "    }\n",
       "\n",
       "    var fmt_picker_span = $('<span/>');\n",
       "\n",
       "    var fmt_picker = $('<select/>');\n",
       "    fmt_picker.addClass('mpl-toolbar-option ui-widget ui-widget-content');\n",
       "    fmt_picker_span.append(fmt_picker);\n",
       "    nav_element.append(fmt_picker_span);\n",
       "    this.format_dropdown = fmt_picker[0];\n",
       "\n",
       "    for (var ind in mpl.extensions) {\n",
       "        var fmt = mpl.extensions[ind];\n",
       "        var option = $(\n",
       "            '<option/>', {selected: fmt === mpl.default_extension}).html(fmt);\n",
       "        fmt_picker.append(option);\n",
       "    }\n",
       "\n",
       "    // Add hover states to the ui-buttons\n",
       "    $( \".ui-button\" ).hover(\n",
       "        function() { $(this).addClass(\"ui-state-hover\");},\n",
       "        function() { $(this).removeClass(\"ui-state-hover\");}\n",
       "    );\n",
       "\n",
       "    var status_bar = $('<span class=\"mpl-message\"/>');\n",
       "    nav_element.append(status_bar);\n",
       "    this.message = status_bar[0];\n",
       "}\n",
       "\n",
       "mpl.figure.prototype.request_resize = function(x_pixels, y_pixels) {\n",
       "    // Request matplotlib to resize the figure. Matplotlib will then trigger a resize in the client,\n",
       "    // which will in turn request a refresh of the image.\n",
       "    this.send_message('resize', {'width': x_pixels, 'height': y_pixels});\n",
       "}\n",
       "\n",
       "mpl.figure.prototype.send_message = function(type, properties) {\n",
       "    properties['type'] = type;\n",
       "    properties['figure_id'] = this.id;\n",
       "    this.ws.send(JSON.stringify(properties));\n",
       "}\n",
       "\n",
       "mpl.figure.prototype.send_draw_message = function() {\n",
       "    if (!this.waiting) {\n",
       "        this.waiting = true;\n",
       "        this.ws.send(JSON.stringify({type: \"draw\", figure_id: this.id}));\n",
       "    }\n",
       "}\n",
       "\n",
       "\n",
       "mpl.figure.prototype.handle_save = function(fig, msg) {\n",
       "    var format_dropdown = fig.format_dropdown;\n",
       "    var format = format_dropdown.options[format_dropdown.selectedIndex].value;\n",
       "    fig.ondownload(fig, format);\n",
       "}\n",
       "\n",
       "\n",
       "mpl.figure.prototype.handle_resize = function(fig, msg) {\n",
       "    var size = msg['size'];\n",
       "    if (size[0] != fig.canvas.width || size[1] != fig.canvas.height) {\n",
       "        fig._resize_canvas(size[0], size[1]);\n",
       "        fig.send_message(\"refresh\", {});\n",
       "    };\n",
       "}\n",
       "\n",
       "mpl.figure.prototype.handle_rubberband = function(fig, msg) {\n",
       "    var x0 = msg['x0'] / mpl.ratio;\n",
       "    var y0 = (fig.canvas.height - msg['y0']) / mpl.ratio;\n",
       "    var x1 = msg['x1'] / mpl.ratio;\n",
       "    var y1 = (fig.canvas.height - msg['y1']) / mpl.ratio;\n",
       "    x0 = Math.floor(x0) + 0.5;\n",
       "    y0 = Math.floor(y0) + 0.5;\n",
       "    x1 = Math.floor(x1) + 0.5;\n",
       "    y1 = Math.floor(y1) + 0.5;\n",
       "    var min_x = Math.min(x0, x1);\n",
       "    var min_y = Math.min(y0, y1);\n",
       "    var width = Math.abs(x1 - x0);\n",
       "    var height = Math.abs(y1 - y0);\n",
       "\n",
       "    fig.rubberband_context.clearRect(\n",
       "        0, 0, fig.canvas.width / mpl.ratio, fig.canvas.height / mpl.ratio);\n",
       "\n",
       "    fig.rubberband_context.strokeRect(min_x, min_y, width, height);\n",
       "}\n",
       "\n",
       "mpl.figure.prototype.handle_figure_label = function(fig, msg) {\n",
       "    // Updates the figure title.\n",
       "    fig.header.textContent = msg['label'];\n",
       "}\n",
       "\n",
       "mpl.figure.prototype.handle_cursor = function(fig, msg) {\n",
       "    var cursor = msg['cursor'];\n",
       "    switch(cursor)\n",
       "    {\n",
       "    case 0:\n",
       "        cursor = 'pointer';\n",
       "        break;\n",
       "    case 1:\n",
       "        cursor = 'default';\n",
       "        break;\n",
       "    case 2:\n",
       "        cursor = 'crosshair';\n",
       "        break;\n",
       "    case 3:\n",
       "        cursor = 'move';\n",
       "        break;\n",
       "    }\n",
       "    fig.rubberband_canvas.style.cursor = cursor;\n",
       "}\n",
       "\n",
       "mpl.figure.prototype.handle_message = function(fig, msg) {\n",
       "    fig.message.textContent = msg['message'];\n",
       "}\n",
       "\n",
       "mpl.figure.prototype.handle_draw = function(fig, msg) {\n",
       "    // Request the server to send over a new figure.\n",
       "    fig.send_draw_message();\n",
       "}\n",
       "\n",
       "mpl.figure.prototype.handle_image_mode = function(fig, msg) {\n",
       "    fig.image_mode = msg['mode'];\n",
       "}\n",
       "\n",
       "mpl.figure.prototype.updated_canvas_event = function() {\n",
       "    // Called whenever the canvas gets updated.\n",
       "    this.send_message(\"ack\", {});\n",
       "}\n",
       "\n",
       "// A function to construct a web socket function for onmessage handling.\n",
       "// Called in the figure constructor.\n",
       "mpl.figure.prototype._make_on_message_function = function(fig) {\n",
       "    return function socket_on_message(evt) {\n",
       "        if (evt.data instanceof Blob) {\n",
       "            /* FIXME: We get \"Resource interpreted as Image but\n",
       "             * transferred with MIME type text/plain:\" errors on\n",
       "             * Chrome.  But how to set the MIME type?  It doesn't seem\n",
       "             * to be part of the websocket stream */\n",
       "            evt.data.type = \"image/png\";\n",
       "\n",
       "            /* Free the memory for the previous frames */\n",
       "            if (fig.imageObj.src) {\n",
       "                (window.URL || window.webkitURL).revokeObjectURL(\n",
       "                    fig.imageObj.src);\n",
       "            }\n",
       "\n",
       "            fig.imageObj.src = (window.URL || window.webkitURL).createObjectURL(\n",
       "                evt.data);\n",
       "            fig.updated_canvas_event();\n",
       "            fig.waiting = false;\n",
       "            return;\n",
       "        }\n",
       "        else if (typeof evt.data === 'string' && evt.data.slice(0, 21) == \"data:image/png;base64\") {\n",
       "            fig.imageObj.src = evt.data;\n",
       "            fig.updated_canvas_event();\n",
       "            fig.waiting = false;\n",
       "            return;\n",
       "        }\n",
       "\n",
       "        var msg = JSON.parse(evt.data);\n",
       "        var msg_type = msg['type'];\n",
       "\n",
       "        // Call the  \"handle_{type}\" callback, which takes\n",
       "        // the figure and JSON message as its only arguments.\n",
       "        try {\n",
       "            var callback = fig[\"handle_\" + msg_type];\n",
       "        } catch (e) {\n",
       "            console.log(\"No handler for the '\" + msg_type + \"' message type: \", msg);\n",
       "            return;\n",
       "        }\n",
       "\n",
       "        if (callback) {\n",
       "            try {\n",
       "                // console.log(\"Handling '\" + msg_type + \"' message: \", msg);\n",
       "                callback(fig, msg);\n",
       "            } catch (e) {\n",
       "                console.log(\"Exception inside the 'handler_\" + msg_type + \"' callback:\", e, e.stack, msg);\n",
       "            }\n",
       "        }\n",
       "    };\n",
       "}\n",
       "\n",
       "// from http://stackoverflow.com/questions/1114465/getting-mouse-location-in-canvas\n",
       "mpl.findpos = function(e) {\n",
       "    //this section is from http://www.quirksmode.org/js/events_properties.html\n",
       "    var targ;\n",
       "    if (!e)\n",
       "        e = window.event;\n",
       "    if (e.target)\n",
       "        targ = e.target;\n",
       "    else if (e.srcElement)\n",
       "        targ = e.srcElement;\n",
       "    if (targ.nodeType == 3) // defeat Safari bug\n",
       "        targ = targ.parentNode;\n",
       "\n",
       "    // jQuery normalizes the pageX and pageY\n",
       "    // pageX,Y are the mouse positions relative to the document\n",
       "    // offset() returns the position of the element relative to the document\n",
       "    var x = e.pageX - $(targ).offset().left;\n",
       "    var y = e.pageY - $(targ).offset().top;\n",
       "\n",
       "    return {\"x\": x, \"y\": y};\n",
       "};\n",
       "\n",
       "/*\n",
       " * return a copy of an object with only non-object keys\n",
       " * we need this to avoid circular references\n",
       " * http://stackoverflow.com/a/24161582/3208463\n",
       " */\n",
       "function simpleKeys (original) {\n",
       "  return Object.keys(original).reduce(function (obj, key) {\n",
       "    if (typeof original[key] !== 'object')\n",
       "        obj[key] = original[key]\n",
       "    return obj;\n",
       "  }, {});\n",
       "}\n",
       "\n",
       "mpl.figure.prototype.mouse_event = function(event, name) {\n",
       "    var canvas_pos = mpl.findpos(event)\n",
       "\n",
       "    if (name === 'button_press')\n",
       "    {\n",
       "        this.canvas.focus();\n",
       "        this.canvas_div.focus();\n",
       "    }\n",
       "\n",
       "    var x = canvas_pos.x * mpl.ratio;\n",
       "    var y = canvas_pos.y * mpl.ratio;\n",
       "\n",
       "    this.send_message(name, {x: x, y: y, button: event.button,\n",
       "                             step: event.step,\n",
       "                             guiEvent: simpleKeys(event)});\n",
       "\n",
       "    /* This prevents the web browser from automatically changing to\n",
       "     * the text insertion cursor when the button is pressed.  We want\n",
       "     * to control all of the cursor setting manually through the\n",
       "     * 'cursor' event from matplotlib */\n",
       "    event.preventDefault();\n",
       "    return false;\n",
       "}\n",
       "\n",
       "mpl.figure.prototype._key_event_extra = function(event, name) {\n",
       "    // Handle any extra behaviour associated with a key event\n",
       "}\n",
       "\n",
       "mpl.figure.prototype.key_event = function(event, name) {\n",
       "\n",
       "    // Prevent repeat events\n",
       "    if (name == 'key_press')\n",
       "    {\n",
       "        if (event.which === this._key)\n",
       "            return;\n",
       "        else\n",
       "            this._key = event.which;\n",
       "    }\n",
       "    if (name == 'key_release')\n",
       "        this._key = null;\n",
       "\n",
       "    var value = '';\n",
       "    if (event.ctrlKey && event.which != 17)\n",
       "        value += \"ctrl+\";\n",
       "    if (event.altKey && event.which != 18)\n",
       "        value += \"alt+\";\n",
       "    if (event.shiftKey && event.which != 16)\n",
       "        value += \"shift+\";\n",
       "\n",
       "    value += 'k';\n",
       "    value += event.which.toString();\n",
       "\n",
       "    this._key_event_extra(event, name);\n",
       "\n",
       "    this.send_message(name, {key: value,\n",
       "                             guiEvent: simpleKeys(event)});\n",
       "    return false;\n",
       "}\n",
       "\n",
       "mpl.figure.prototype.toolbar_button_onclick = function(name) {\n",
       "    if (name == 'download') {\n",
       "        this.handle_save(this, null);\n",
       "    } else {\n",
       "        this.send_message(\"toolbar_button\", {name: name});\n",
       "    }\n",
       "};\n",
       "\n",
       "mpl.figure.prototype.toolbar_button_onmouseover = function(tooltip) {\n",
       "    this.message.textContent = tooltip;\n",
       "};\n",
       "mpl.toolbar_items = [[\"Home\", \"Reset original view\", \"fa fa-home icon-home\", \"home\"], [\"Back\", \"Back to previous view\", \"fa fa-arrow-left icon-arrow-left\", \"back\"], [\"Forward\", \"Forward to next view\", \"fa fa-arrow-right icon-arrow-right\", \"forward\"], [\"\", \"\", \"\", \"\"], [\"Pan\", \"Pan axes with left mouse, zoom with right\", \"fa fa-arrows icon-move\", \"pan\"], [\"Zoom\", \"Zoom to rectangle\", \"fa fa-square-o icon-check-empty\", \"zoom\"], [\"\", \"\", \"\", \"\"], [\"Download\", \"Download plot\", \"fa fa-floppy-o icon-save\", \"download\"]];\n",
       "\n",
       "mpl.extensions = [\"eps\", \"jpeg\", \"pdf\", \"png\", \"ps\", \"raw\", \"svg\", \"tif\"];\n",
       "\n",
       "mpl.default_extension = \"png\";var comm_websocket_adapter = function(comm) {\n",
       "    // Create a \"websocket\"-like object which calls the given IPython comm\n",
       "    // object with the appropriate methods. Currently this is a non binary\n",
       "    // socket, so there is still some room for performance tuning.\n",
       "    var ws = {};\n",
       "\n",
       "    ws.close = function() {\n",
       "        comm.close()\n",
       "    };\n",
       "    ws.send = function(m) {\n",
       "        //console.log('sending', m);\n",
       "        comm.send(m);\n",
       "    };\n",
       "    // Register the callback with on_msg.\n",
       "    comm.on_msg(function(msg) {\n",
       "        //console.log('receiving', msg['content']['data'], msg);\n",
       "        // Pass the mpl event to the overridden (by mpl) onmessage function.\n",
       "        ws.onmessage(msg['content']['data'])\n",
       "    });\n",
       "    return ws;\n",
       "}\n",
       "\n",
       "mpl.mpl_figure_comm = function(comm, msg) {\n",
       "    // This is the function which gets called when the mpl process\n",
       "    // starts-up an IPython Comm through the \"matplotlib\" channel.\n",
       "\n",
       "    var id = msg.content.data.id;\n",
       "    // Get hold of the div created by the display call when the Comm\n",
       "    // socket was opened in Python.\n",
       "    var element = $(\"#\" + id);\n",
       "    var ws_proxy = comm_websocket_adapter(comm)\n",
       "\n",
       "    function ondownload(figure, format) {\n",
       "        window.open(figure.imageObj.src);\n",
       "    }\n",
       "\n",
       "    var fig = new mpl.figure(id, ws_proxy,\n",
       "                           ondownload,\n",
       "                           element.get(0));\n",
       "\n",
       "    // Call onopen now - mpl needs it, as it is assuming we've passed it a real\n",
       "    // web socket which is closed, not our websocket->open comm proxy.\n",
       "    ws_proxy.onopen();\n",
       "\n",
       "    fig.parent_element = element.get(0);\n",
       "    fig.cell_info = mpl.find_output_cell(\"<div id='\" + id + \"'></div>\");\n",
       "    if (!fig.cell_info) {\n",
       "        console.error(\"Failed to find cell for figure\", id, fig);\n",
       "        return;\n",
       "    }\n",
       "\n",
       "    var output_index = fig.cell_info[2]\n",
       "    var cell = fig.cell_info[0];\n",
       "\n",
       "};\n",
       "\n",
       "mpl.figure.prototype.handle_close = function(fig, msg) {\n",
       "    var width = fig.canvas.width/mpl.ratio\n",
       "    fig.root.unbind('remove')\n",
       "\n",
       "    // Update the output cell to use the data from the current canvas.\n",
       "    fig.push_to_output();\n",
       "    var dataURL = fig.canvas.toDataURL();\n",
       "    // Re-enable the keyboard manager in IPython - without this line, in FF,\n",
       "    // the notebook keyboard shortcuts fail.\n",
       "    IPython.keyboard_manager.enable()\n",
       "    $(fig.parent_element).html('<img src=\"' + dataURL + '\" width=\"' + width + '\">');\n",
       "    fig.close_ws(fig, msg);\n",
       "}\n",
       "\n",
       "mpl.figure.prototype.close_ws = function(fig, msg){\n",
       "    fig.send_message('closing', msg);\n",
       "    // fig.ws.close()\n",
       "}\n",
       "\n",
       "mpl.figure.prototype.push_to_output = function(remove_interactive) {\n",
       "    // Turn the data on the canvas into data in the output cell.\n",
       "    var width = this.canvas.width/mpl.ratio\n",
       "    var dataURL = this.canvas.toDataURL();\n",
       "    this.cell_info[1]['text/html'] = '<img src=\"' + dataURL + '\" width=\"' + width + '\">';\n",
       "}\n",
       "\n",
       "mpl.figure.prototype.updated_canvas_event = function() {\n",
       "    // Tell IPython that the notebook contents must change.\n",
       "    IPython.notebook.set_dirty(true);\n",
       "    this.send_message(\"ack\", {});\n",
       "    var fig = this;\n",
       "    // Wait a second, then push the new image to the DOM so\n",
       "    // that it is saved nicely (might be nice to debounce this).\n",
       "    setTimeout(function () { fig.push_to_output() }, 1000);\n",
       "}\n",
       "\n",
       "mpl.figure.prototype._init_toolbar = function() {\n",
       "    var fig = this;\n",
       "\n",
       "    var nav_element = $('<div/>');\n",
       "    nav_element.attr('style', 'width: 100%');\n",
       "    this.root.append(nav_element);\n",
       "\n",
       "    // Define a callback function for later on.\n",
       "    function toolbar_event(event) {\n",
       "        return fig.toolbar_button_onclick(event['data']);\n",
       "    }\n",
       "    function toolbar_mouse_event(event) {\n",
       "        return fig.toolbar_button_onmouseover(event['data']);\n",
       "    }\n",
       "\n",
       "    for(var toolbar_ind in mpl.toolbar_items){\n",
       "        var name = mpl.toolbar_items[toolbar_ind][0];\n",
       "        var tooltip = mpl.toolbar_items[toolbar_ind][1];\n",
       "        var image = mpl.toolbar_items[toolbar_ind][2];\n",
       "        var method_name = mpl.toolbar_items[toolbar_ind][3];\n",
       "\n",
       "        if (!name) { continue; };\n",
       "\n",
       "        var button = $('<button class=\"btn btn-default\" href=\"#\" title=\"' + name + '\"><i class=\"fa ' + image + ' fa-lg\"></i></button>');\n",
       "        button.click(method_name, toolbar_event);\n",
       "        button.mouseover(tooltip, toolbar_mouse_event);\n",
       "        nav_element.append(button);\n",
       "    }\n",
       "\n",
       "    // Add the status bar.\n",
       "    var status_bar = $('<span class=\"mpl-message\" style=\"text-align:right; float: right;\"/>');\n",
       "    nav_element.append(status_bar);\n",
       "    this.message = status_bar[0];\n",
       "\n",
       "    // Add the close button to the window.\n",
       "    var buttongrp = $('<div class=\"btn-group inline pull-right\"></div>');\n",
       "    var button = $('<button class=\"btn btn-mini btn-primary\" href=\"#\" title=\"Stop Interaction\"><i class=\"fa fa-power-off icon-remove icon-large\"></i></button>');\n",
       "    button.click(function (evt) { fig.handle_close(fig, {}); } );\n",
       "    button.mouseover('Stop Interaction', toolbar_mouse_event);\n",
       "    buttongrp.append(button);\n",
       "    var titlebar = this.root.find($('.ui-dialog-titlebar'));\n",
       "    titlebar.prepend(buttongrp);\n",
       "}\n",
       "\n",
       "mpl.figure.prototype._root_extra_style = function(el){\n",
       "    var fig = this\n",
       "    el.on(\"remove\", function(){\n",
       "\tfig.close_ws(fig, {});\n",
       "    });\n",
       "}\n",
       "\n",
       "mpl.figure.prototype._canvas_extra_style = function(el){\n",
       "    // this is important to make the div 'focusable\n",
       "    el.attr('tabindex', 0)\n",
       "    // reach out to IPython and tell the keyboard manager to turn it's self\n",
       "    // off when our div gets focus\n",
       "\n",
       "    // location in version 3\n",
       "    if (IPython.notebook.keyboard_manager) {\n",
       "        IPython.notebook.keyboard_manager.register_events(el);\n",
       "    }\n",
       "    else {\n",
       "        // location in version 2\n",
       "        IPython.keyboard_manager.register_events(el);\n",
       "    }\n",
       "\n",
       "}\n",
       "\n",
       "mpl.figure.prototype._key_event_extra = function(event, name) {\n",
       "    var manager = IPython.notebook.keyboard_manager;\n",
       "    if (!manager)\n",
       "        manager = IPython.keyboard_manager;\n",
       "\n",
       "    // Check for shift+enter\n",
       "    if (event.shiftKey && event.which == 13) {\n",
       "        this.canvas_div.blur();\n",
       "        // select the cell after this one\n",
       "        var index = IPython.notebook.find_cell_index(this.cell_info[0]);\n",
       "        IPython.notebook.select(index + 1);\n",
       "    }\n",
       "}\n",
       "\n",
       "mpl.figure.prototype.handle_save = function(fig, msg) {\n",
       "    fig.ondownload(fig, null);\n",
       "}\n",
       "\n",
       "\n",
       "mpl.find_output_cell = function(html_output) {\n",
       "    // Return the cell and output element which can be found *uniquely* in the notebook.\n",
       "    // Note - this is a bit hacky, but it is done because the \"notebook_saving.Notebook\"\n",
       "    // IPython event is triggered only after the cells have been serialised, which for\n",
       "    // our purposes (turning an active figure into a static one), is too late.\n",
       "    var cells = IPython.notebook.get_cells();\n",
       "    var ncells = cells.length;\n",
       "    for (var i=0; i<ncells; i++) {\n",
       "        var cell = cells[i];\n",
       "        if (cell.cell_type === 'code'){\n",
       "            for (var j=0; j<cell.output_area.outputs.length; j++) {\n",
       "                var data = cell.output_area.outputs[j];\n",
       "                if (data.data) {\n",
       "                    // IPython >= 3 moved mimebundle to data attribute of output\n",
       "                    data = data.data;\n",
       "                }\n",
       "                if (data['text/html'] == html_output) {\n",
       "                    return [cell, data, j];\n",
       "                }\n",
       "            }\n",
       "        }\n",
       "    }\n",
       "}\n",
       "\n",
       "// Register the function which deals with the matplotlib target/channel.\n",
       "// The kernel may be null if the page has been refreshed.\n",
       "if (IPython.notebook.kernel != null) {\n",
       "    IPython.notebook.kernel.comm_manager.register_target('matplotlib', mpl.mpl_figure_comm);\n",
       "}\n"
      ],
      "text/plain": [
       "<IPython.core.display.Javascript object>"
      ]
     },
     "metadata": {},
     "output_type": "display_data"
    },
    {
     "data": {
      "text/html": [
       "<img src=\"data:image/png;base64,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\" width=\"431.66664951377516\">"
      ],
      "text/plain": [
       "<IPython.core.display.HTML object>"
      ]
     },
     "metadata": {},
     "output_type": "display_data"
    },
    {
     "data": {
      "text/plain": [
       "[<matplotlib.lines.Line2D at 0x181aa2c4108>]"
      ]
     },
     "execution_count": 14,
     "metadata": {},
     "output_type": "execute_result"
    }
   ],
   "source": [
    "%matplotlib notebook\n",
    "x = np.linspace(0,10,100)\n",
    "plt.plot( x, np.sin(x),'-')\n",
    "plt.plot( x, np.cos(x),'--')"
   ]
  },
  {
   "cell_type": "markdown",
   "metadata": {},
   "source": [
    "### Subplot"
   ]
  },
  {
   "cell_type": "code",
   "execution_count": 21,
   "metadata": {},
   "outputs": [
    {
     "data": {
      "text/plain": [
       "Text(0, 0.5, 'cos(x)')"
      ]
     },
     "execution_count": 21,
     "metadata": {},
     "output_type": "execute_result"
    },
    {
     "data": {
      "image/png": "[encoded data removed]",
      "text/plain": [
       "<Figure size 432x288 with 2 Axes>"
      ]
     },
     "metadata": {
      "needs_background": "light"
     },
     "output_type": "display_data"
    }
   ],
   "source": [
    "plt.figure()\n",
    "plt.subplot(2,1,1)\n",
    "plt.plot(x,np.sin(x),'-')\n",
    "plt.xlabel('x')\n",
    "plt.ylabel('sin(x)')\n",
    "\n",
    "plt.subplot(2,1,2)\n",
    "plt.plot(x,np.cos(x),'--')\n",
    "plt.xlabel('x')\n",
    "plt.ylabel('cos(x)')"
   ]
  },
  {
   "cell_type": "markdown",
   "metadata": {},
   "source": [
    "### Legend Function"
   ]
  },
  {
   "cell_type": "code",
   "execution_count": 22,
   "metadata": {},
   "outputs": [
    {
     "data": {
      "image/png": "[encoded data removed]",
      "text/plain": [
       "<Figure size 432x288 with 1 Axes>"
      ]
     },
     "metadata": {
      "needs_background": "light"
     },
     "output_type": "display_data"
    }
   ],
   "source": [
    "plt.plot(x, np.sin(x),'-g',label='sin(x)')\n",
    "plt.plot(x, np.cos(x),':b',label='cos(x)')\n",
    "plt.legend();"
   ]
  },
  {
   "cell_type": "code",
   "execution_count": 14,
   "metadata": {},
   "outputs": [
    {
     "name": "stdout",
     "output_type": "stream",
     "text": [
      "[ 2.71828183  7.3890561  20.08553692]\n"
     ]
    }
   ],
   "source": [
    "#EXP\n",
    "a=np.array([1,2,3])\n",
    "print(np.exp(a))"
   ]
  },
  {
   "cell_type": "code",
   "execution_count": 15,
   "metadata": {},
   "outputs": [
    {
     "name": "stdout",
     "output_type": "stream",
     "text": [
      "[0.         0.69314718 1.09861229]\n"
     ]
    }
   ],
   "source": [
    "#LOG\n",
    "print(np.log(a))"
   ]
  },
  {
   "cell_type": "markdown",
   "metadata": {},
   "source": [
    "### Creating Zero matrix, Identity matrix, Matrix multiplication "
   ]
  },
  {
   "cell_type": "code",
   "execution_count": 19,
   "metadata": {},
   "outputs": [
    {
     "name": "stdout",
     "output_type": "stream",
     "text": [
      "[[0 0 0]\n",
      " [0 0 0]]\n"
     ]
    }
   ],
   "source": [
    "#ZERO MATRIX\n",
    "a=np.zeros((2,3),dtype=int)      #np.zeros((row,col),dtype=\" \")\n",
    "print(a)"
   ]
  },
  {
   "cell_type": "code",
   "execution_count": 41,
   "metadata": {},
   "outputs": [
    {
     "data": {
      "text/plain": [
       "array([[[0., 0., 0., 0.],\n",
       "        [0., 0., 0., 0.],\n",
       "        [0., 0., 0., 0.]],\n",
       "\n",
       "       [[0., 0., 0., 0.],\n",
       "        [0., 0., 0., 0.],\n",
       "        [0., 0., 0., 0.]],\n",
       "\n",
       "       [[0., 0., 0., 0.],\n",
       "        [0., 0., 0., 0.],\n",
       "        [0., 0., 0., 0.]],\n",
       "\n",
       "       [[0., 0., 0., 0.],\n",
       "        [0., 0., 0., 0.],\n",
       "        [0., 0., 0., 0.]]])"
      ]
     },
     "execution_count": 41,
     "metadata": {},
     "output_type": "execute_result"
    }
   ],
   "source": [
    "np.zeros((4,3,4),dtype=\"float\")               #np.zeros((no of arrays,row,col),dtype=\" \")"
   ]
  },
  {
   "cell_type": "code",
   "execution_count": 22,
   "metadata": {},
   "outputs": [
    {
     "name": "stdout",
     "output_type": "stream",
     "text": [
      "[[1 0 0]\n",
      " [0 1 0]\n",
      " [0 0 1]]\n"
     ]
    }
   ],
   "source": [
    "#IDENTITY MATRIX\n",
    "b=np.identity(3,dtype=int)\n",
    "print(b)"
   ]
  },
  {
   "cell_type": "code",
   "execution_count": 29,
   "metadata": {},
   "outputs": [
    {
     "data": {
      "text/plain": [
       "array([[40, 10],\n",
       "       [58, 22]])"
      ]
     },
     "execution_count": 29,
     "metadata": {},
     "output_type": "execute_result"
    }
   ],
   "source": [
    "#MATRIX MULTIPLICATION\n",
    "h=np.array([[0,5],[6,2]])\n",
    "i=np.array([[7,3],[8,2]])\n",
    "np.matmul(h,i)"
   ]
  },
  {
   "cell_type": "code",
   "execution_count": 34,
   "metadata": {},
   "outputs": [
    {
     "name": "stdout",
     "output_type": "stream",
     "text": [
      "[[0 5]\n",
      " [6 2]]\n",
      "[[0 6]\n",
      " [5 2]]\n",
      "[[0 6]\n",
      " [5 2]]\n"
     ]
    }
   ],
   "source": [
    "#TRANSPOSE\n",
    "print(h)\n",
    "print(np.transpose(h))\n",
    "print(h.T) #another option to print transpose"
   ]
  },
  {
   "cell_type": "code",
   "execution_count": null,
   "metadata": {},
   "outputs": [],
   "source": []
  },
  {
   "cell_type": "code",
   "execution_count": null,
   "metadata": {},
   "outputs": [],
   "source": []
  }
 ],
 "metadata": {
  "kernelspec": {
   "display_name": "Python 3",
   "language": "python",
   "name": "python3"
  },
  "language_info": {
   "codemirror_mode": {
    "name": "ipython",
    "version": 3
   },
   "file_extension": ".py",
   "mimetype": "text/x-python",
   "name": "python",
   "nbconvert_exporter": "python",
   "pygments_lexer": "ipython3",
   "version": "3.7.6"
  }
 },
 "nbformat": 4,
 "nbformat_minor": 4
}
